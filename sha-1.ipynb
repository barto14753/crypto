{
 "cells": [
  {
   "attachments": {},
   "cell_type": "markdown",
   "metadata": {},
   "source": [
    "# SHA-1 algorithm"
   ]
  },
  {
   "cell_type": "code",
   "execution_count": 5,
   "metadata": {},
   "outputs": [],
   "source": [
    "import numpy as np\n",
    "import binascii"
   ]
  },
  {
   "attachments": {},
   "cell_type": "markdown",
   "metadata": {},
   "source": [
    "## Help functions"
   ]
  },
  {
   "cell_type": "code",
   "execution_count": 3,
   "metadata": {},
   "outputs": [],
   "source": [
    "LENGTH_BITS = 64\n",
    "BLOCK_SIZE = 512"
   ]
  },
  {
   "cell_type": "code",
   "execution_count": 10,
   "metadata": {},
   "outputs": [],
   "source": [
    "def str_to_bits(string: str) -> np.ndarray:\n",
    "    bytes_array = bytes(string, 'utf-8')\n",
    "    array = np.frombuffer(bytes_array, dtype=np.uint8)\n",
    "    bits_array = np.unpackbits(array)\n",
    "    return bits_array\n",
    "\n",
    "def bits_to_str(bits: np.ndarray) -> str:\n",
    "    bits_array = np.packbits(bits)\n",
    "    return bits_array.tobytes().decode('utf-8')\n",
    "\n",
    "\n",
    "def int_to_x_bits(number: int, bits) -> np.ndarray:\n",
    "    binary_string = np.binary_repr(number, width=bits)\n",
    "    return np.array(list(binary_string), dtype=np.uint8)\n",
    "\n",
    "def int_to_64_bits(number: int) -> np.ndarray:\n",
    "    return int_to_x_bits(number, 64)\n",
    "\n",
    "def int_to_32_bits(number: int) -> np.ndarray:\n",
    "    return int_to_x_bits(number, 32)\n",
    "\n",
    "def bits_to_int(bits_array):\n",
    "    binary_string = ''.join(bits_array.astype(str))\n",
    "    return int(binary_string, 2)\n",
    "\n",
    "def binary_negation(bits: np.ndarray) -> np.ndarray:\n",
    "    return np.vectorize(lambda x: (x + 1) % 2)(bits)\n",
    "\n",
    "def add_padding(bits: np.ndarray) -> np.ndarray:\n",
    "    bits_len = len(bits)\n",
    "    padding_len = BLOCK_SIZE - (bits_len + LENGTH_BITS + 1) % BLOCK_SIZE\n",
    "    one_padding = np.ones(1)\n",
    "    padding = np.zeros(padding_len)\n",
    "    bits_with_one_padding = np.append(bits, one_padding)\n",
    "    bits_with_padding = np.append(bits_with_one_padding, padding)\n",
    "    return bits_with_padding\n",
    "\n",
    "def add_length_bits(bits: np.ndarray, bits_len: int) -> np.ndarray:\n",
    "    length_bits = int_to_64_bits(bits_len)\n",
    "    bits_with_length = np.append(bits, length_bits)\n",
    "    return bits_with_length\n",
    "\n",
    "def split_x_blocks(bits: np.ndarray, size: int) -> np.ndarray:\n",
    "    assert bits.size % size == 0\n",
    "    num_blocks = bits.size // size\n",
    "    blocks = np.array_split(bits, num_blocks)\n",
    "    return np.array(blocks, dtype=np.uint8)\n",
    "\n",
    "def split_512_blocks(bits: np.ndarray) -> np.ndarray:\n",
    "    return split_x_blocks(bits, 512)\n",
    "\n",
    "def split_32_blocks(bits: np.ndarray) -> np.ndarray:\n",
    "    return split_x_blocks(bits, 32)\n",
    "\n",
    "def left_rotate(arr, rotations):\n",
    "    rotations = rotations % arr.size\n",
    "    return np.roll(arr, -rotations)\n"
   ]
  },
  {
   "cell_type": "code",
   "execution_count": 7,
   "metadata": {},
   "outputs": [],
   "source": [
    "h0 = 0x67452301\n",
    "h1 = 0xEFCDAB89\n",
    "h2 = 0x98BADCFE\n",
    "h3 = 0x10325476\n",
    "h4 = 0xC3D2E1F0"
   ]
  },
  {
   "cell_type": "code",
   "execution_count": null,
   "metadata": {},
   "outputs": [],
   "source": [
    "def extend_chunks(chunks: np.ndarray) -> np.ndarray:\n",
    "   for i in range(16, 80):\n",
    "      new_chunk = chunks[i-3] ^ chunks[i-8] ^ chunks[i-14] ^ chunks[i-16]\n",
    "      new_chunk = left_rotate(new_chunk, 1)\n",
    "      chunks = np.append(chunks, new_chunk)\n",
    "   return chunks\n",
    "\n",
    "def process_block(block, var):\n",
    "   chunks =  split_32_blocks(block)\n",
    "   chunks = extend_chunks(chunks)"
   ]
  },
  {
   "cell_type": "code",
   "execution_count": 12,
   "metadata": {},
   "outputs": [],
   "source": [
    "def sha1(data):\n",
    "    bits = str_to_bits(data)\n",
    "    bits_len = len(bits)\n",
    "    bits = add_padding(bits)\n",
    "    bits = add_length_bits(bits, bits_len)\n",
    "    blocks = split_512_blocks(bits)\n",
    "\n",
    "    for block in blocks:\n",
    "        var = process_block(block, var)"
   ]
  }
 ],
 "metadata": {
  "kernelspec": {
   "display_name": "base",
   "language": "python",
   "name": "python3"
  },
  "language_info": {
   "codemirror_mode": {
    "name": "ipython",
    "version": 3
   },
   "file_extension": ".py",
   "mimetype": "text/x-python",
   "name": "python",
   "nbconvert_exporter": "python",
   "pygments_lexer": "ipython3",
   "version": "3.10.10"
  },
  "orig_nbformat": 4
 },
 "nbformat": 4,
 "nbformat_minor": 2
}
