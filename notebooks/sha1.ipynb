{
 "cells": [
  {
   "attachments": {},
   "cell_type": "markdown",
   "metadata": {},
   "source": [
    "# SHA-1 algorithm"
   ]
  },
  {
   "cell_type": "code",
   "execution_count": 214,
   "metadata": {},
   "outputs": [],
   "source": [
    "import numpy as np\n",
    "import binascii"
   ]
  },
  {
   "attachments": {},
   "cell_type": "markdown",
   "metadata": {},
   "source": [
    "## Help functions"
   ]
  },
  {
   "cell_type": "code",
   "execution_count": 215,
   "metadata": {},
   "outputs": [],
   "source": [
    "LENGTH_BITS = 64\n",
    "BLOCK_SIZE = 512"
   ]
  },
  {
   "cell_type": "code",
   "execution_count": 216,
   "metadata": {},
   "outputs": [],
   "source": [
    "def str_to_bits(string: str) -> np.ndarray:\n",
    "    bytes_array = bytes(string, 'utf-8')\n",
    "    array = np.frombuffer(bytes_array, dtype=np.uint8)\n",
    "    bits_array = np.unpackbits(array)\n",
    "    return bits_array\n",
    "\n",
    "def int_to_x_bits(number: int, bits) -> np.ndarray:\n",
    "    binary_string = np.binary_repr(number, width=bits)\n",
    "    return np.array(list(binary_string), dtype=np.uint8)\n",
    "\n",
    "def int_to_64_bits(number: int) -> np.ndarray:\n",
    "    return int_to_x_bits(number, 64)\n",
    "\n",
    "def int_to_32_bits(number: int) -> np.ndarray:\n",
    "    return int_to_x_bits(number, 32)\n",
    "\n",
    "def bits_to_int(bits_array):\n",
    "    binary_string = ''.join(bits_array.astype(str))\n",
    "    return int(binary_string, 2)\n",
    "\n",
    "def binary_negation(bits: np.ndarray) -> np.ndarray:\n",
    "    return np.vectorize(lambda x: (x + 1) % 2)(bits)\n",
    "\n",
    "def add_padding(bits: np.ndarray) -> np.ndarray:\n",
    "    bits_len = len(bits)\n",
    "    padding_len = BLOCK_SIZE - (bits_len + LENGTH_BITS + 1) % BLOCK_SIZE\n",
    "    one_padding = np.ones(1)\n",
    "    padding = np.zeros(padding_len)\n",
    "    bits_with_one_padding = np.append(bits, one_padding)\n",
    "    bits_with_padding = np.append(bits_with_one_padding, padding)\n",
    "    return bits_with_padding\n",
    "\n",
    "def add_length_bits(bits: np.ndarray, bits_len: int) -> np.ndarray:\n",
    "    length_bits = int_to_64_bits(bits_len)\n",
    "    bits_with_length = np.append(bits, length_bits)\n",
    "    return bits_with_length\n",
    "\n",
    "def split_x_blocks(bits: np.ndarray, size: int) -> np.ndarray:\n",
    "    assert bits.size % size == 0\n",
    "    num_blocks = bits.size // size\n",
    "    blocks = np.array_split(bits, num_blocks)\n",
    "    return np.array(blocks, dtype=np.uint8)\n",
    "\n",
    "def split_512_blocks(bits: np.ndarray) -> np.ndarray:\n",
    "    return split_x_blocks(bits, 512)\n",
    "\n",
    "def split_32_blocks(bits: np.ndarray) -> np.ndarray:\n",
    "    return split_x_blocks(bits, 32)\n",
    "\n",
    "def left_rotate(arr, rotations):\n",
    "    rotations = rotations % arr.size\n",
    "    return np.roll(arr, -rotations)\n",
    "\n",
    "def add_modulo(a_bits, b_bits):\n",
    "    a = bits_to_int(a_bits)\n",
    "    b = bits_to_int(b_bits)\n",
    "    res = (a + b) & 0xFFFFFFFF\n",
    "    return int_to_32_bits(res)\n"
   ]
  },
  {
   "cell_type": "code",
   "execution_count": 217,
   "metadata": {},
   "outputs": [],
   "source": [
    "def extend_chunks(chunks: np.ndarray) -> np.ndarray:\n",
    "   for i in range(16, 80):\n",
    "      new_chunk = chunks[i-3] ^ chunks[i-8] ^ chunks[i-14] ^ chunks[i-16]\n",
    "      new_chunk = left_rotate(new_chunk, 1)\n",
    "      chunks = np.append(chunks, [new_chunk], axis=0)\n",
    "   return chunks\n",
    "\n",
    "def process_block(block, var):\n",
    "   chunks =  split_32_blocks(block)\n",
    "   chunks = extend_chunks(chunks)\n",
    "\n",
    "   a, b, c, d, e = var\n",
    "   h0, h1, h2, h3, h4 = a, b, c, d, e\n",
    "\n",
    "   for i, chunk in enumerate(chunks):\n",
    "      if i < 20:\n",
    "         f = (b & c) | (binary_negation(b) & d)\n",
    "         k = int_to_32_bits(0x5A827999)\n",
    "      elif i < 40:\n",
    "         f = b ^ c ^ d\n",
    "         k = int_to_32_bits(0x6ED9EBA1)\n",
    "      elif i < 60:\n",
    "         f = (b & c) | (b & d) | (c & d)\n",
    "         k = int_to_32_bits(0x8F1BBCDC)\n",
    "      elif i < 80:\n",
    "         f = b ^ c ^ d\n",
    "         k = int_to_32_bits(0xCA62C1D6)\n",
    "\n",
    "      tmp = add_modulo(left_rotate(a, 5), f)\n",
    "      tmp = add_modulo(tmp, e)\n",
    "      tmp = add_modulo(tmp, k)\n",
    "      tmp = add_modulo(tmp, chunk)\n",
    "      e = d\n",
    "      tmp_c = c\n",
    "      c = left_rotate(b, 30)\n",
    "      b = a\n",
    "      a = tmp\n",
    "      d = tmp_c\n",
    "   \n",
    "   h0 = add_modulo(h0, a)\n",
    "   h1 = add_modulo(h1, b)\n",
    "   h2 = add_modulo(h2, c)\n",
    "   h3 = add_modulo(h3, d)\n",
    "   h4 = add_modulo(h4, e)\n",
    "\n",
    "   return (h0, h1, h2, h3, h4)\n"
   ]
  },
  {
   "cell_type": "code",
   "execution_count": 218,
   "metadata": {},
   "outputs": [],
   "source": [
    "def sha1(data):\n",
    "    bits = str_to_bits(data)\n",
    "    bits_len = len(bits)\n",
    "    bits = add_padding(bits)\n",
    "    bits = add_length_bits(bits, bits_len)\n",
    "    blocks = split_512_blocks(bits)\n",
    "\n",
    "    h0 = int_to_32_bits(0x67452301)\n",
    "    h1 = int_to_32_bits(0xEFCDAB89)\n",
    "    h2 = int_to_32_bits(0x98BADCFE)\n",
    "    h3 = int_to_32_bits(0x10325476)\n",
    "    h4 = int_to_32_bits(0xC3D2E1F0)\n",
    "    var = (h0, h1, h2, h3, h4)\n",
    "\n",
    "    for block in blocks:\n",
    "        var = process_block(block, var)\n",
    "    \n",
    "    h0, h1, h2, h3, h4 = var\n",
    "    bits = h0\n",
    "    bits = np.append(bits, h1)\n",
    "    bits = np.append(bits, h2)\n",
    "    bits = np.append(bits, h3)\n",
    "    bits = np.append(bits, h4)\n",
    "    hash_bytes = np.packbits(bits)\n",
    "    return binascii.hexlify(hash_bytes).decode()"
   ]
  },
  {
   "cell_type": "code",
   "execution_count": 219,
   "metadata": {},
   "outputs": [],
   "source": [
    "assert sha1(\"\") == \"da39a3ee5e6b4b0d3255bfef95601890afd80709\"\n",
    "assert sha1(\"abc\") == \"a9993e364706816aba3e25717850c26c9cd0d89d\"\n",
    "assert sha1(\"password\") == \"5baa61e4c9b93f3f0682250b6cf8331b7ee68fd8\"\n",
    "assert sha1(\"verrryyylooooooooooooong\") == \"0ae6369421330d5e25c5e9c0c4c6dc272870daf0\"\n",
    "assert sha1(\"DiFr33333N!\") == \"2489e5a1b1fae0ca5774913c5d0dc73e01cd0ae6\""
   ]
  }
 ],
 "metadata": {
  "kernelspec": {
   "display_name": "base",
   "language": "python",
   "name": "python3"
  },
  "language_info": {
   "codemirror_mode": {
    "name": "ipython",
    "version": 3
   },
   "file_extension": ".py",
   "mimetype": "text/x-python",
   "name": "python",
   "nbconvert_exporter": "python",
   "pygments_lexer": "ipython3",
   "version": "3.10.10"
  },
  "orig_nbformat": 4
 },
 "nbformat": 4,
 "nbformat_minor": 2
}
