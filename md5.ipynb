{
 "cells": [
  {
   "cell_type": "markdown",
   "metadata": {},
   "source": [
    "# MD5 algorithm"
   ]
  },
  {
   "cell_type": "code",
   "execution_count": 1,
   "metadata": {},
   "outputs": [],
   "source": [
    "import numpy as np"
   ]
  },
  {
   "cell_type": "code",
   "execution_count": 76,
   "metadata": {},
   "outputs": [],
   "source": [
    "LENGTH_BITS = 64\n",
    "MESSAGE_MODULO = 512\n",
    "\n",
    "plaintext = \"password\""
   ]
  },
  {
   "cell_type": "code",
   "execution_count": 65,
   "metadata": {},
   "outputs": [],
   "source": [
    "def str_to_bits(string: str) -> np.ndarray:\n",
    "    bytes_array = bytes(string, 'utf-8')\n",
    "    array = np.frombuffer(bytes_array, dtype=np.uint8)\n",
    "    bits_array = np.unpackbits(array)\n",
    "\n",
    "    return bits_array\n",
    "\n",
    "def bits_to_str(bits: np.ndarray) -> str:\n",
    "    bits_array = np.packbits(bits)\n",
    "    return bits_array.tobytes().decode('utf-8')\n",
    "\n",
    "\n",
    "def int_to_64bits(number: int) -> str:\n",
    "    binary_string = np.binary_repr(number, width=64)\n",
    "    return np.array(list(binary_string), dtype=np.int64)"
   ]
  },
  {
   "cell_type": "code",
   "execution_count": 70,
   "metadata": {},
   "outputs": [],
   "source": [
    "def add_padding(bits: np.ndarray) -> np.ndarray:\n",
    "    bits_len = len(bits)\n",
    "    padding_len = MESSAGE_MODULO - (bits_len + LENGTH_BITS) % MESSAGE_MODULO\n",
    "    padding = np.zeros(padding_len)\n",
    "    bits_with_padding = np.append(bits, padding)\n",
    "    \n",
    "    return bits_with_padding\n",
    "\n",
    "def add_length_bits(bits: np.ndarray) -> np.ndarray:\n",
    "    bits_len = len(bits)\n",
    "    length_bits = int_to_64bits(bits_len)\n",
    "    bits_with_length = np.append(bits, length_bits)\n",
    "    return bits_with_length"
   ]
  },
  {
   "cell_type": "code",
   "execution_count": 75,
   "metadata": {},
   "outputs": [
    {
     "data": {
      "text/plain": [
       "6656"
      ]
     },
     "execution_count": 75,
     "metadata": {},
     "output_type": "execute_result"
    }
   ],
   "source": [
    "bits = str_to_bits(plaintext)\n",
    "bits = add_padding(bits)\n",
    "bits = add_length_bits(bits)\n",
    "bits.size"
   ]
  },
  {
   "cell_type": "code",
   "execution_count": null,
   "metadata": {},
   "outputs": [],
   "source": []
  }
 ],
 "metadata": {
  "kernelspec": {
   "display_name": "Python 3 (ipykernel)",
   "language": "python",
   "name": "python3"
  },
  "language_info": {
   "codemirror_mode": {
    "name": "ipython",
    "version": 3
   },
   "file_extension": ".py",
   "mimetype": "text/x-python",
   "name": "python",
   "nbconvert_exporter": "python",
   "pygments_lexer": "ipython3",
   "version": "3.9.16"
  }
 },
 "nbformat": 4,
 "nbformat_minor": 2
}
