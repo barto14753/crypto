{
 "cells": [
  {
   "attachments": {},
   "cell_type": "markdown",
   "metadata": {},
   "source": [
    "# MD5 algorithm"
   ]
  },
  {
   "cell_type": "code",
   "execution_count": 155,
   "metadata": {},
   "outputs": [],
   "source": [
    "import numpy as np\n",
    "import binascii\n"
   ]
  },
  {
   "cell_type": "code",
   "execution_count": 156,
   "metadata": {},
   "outputs": [],
   "source": [
    "LENGTH_BITS = 64\n",
    "BLOCK_SIZE = 512"
   ]
  },
  {
   "cell_type": "code",
   "execution_count": 157,
   "metadata": {},
   "outputs": [],
   "source": [
    "def str_to_bits(string: str) -> np.ndarray:\n",
    "    bytes_array = bytes(string, 'utf-8')\n",
    "    array = np.frombuffer(bytes_array, dtype=np.uint8)\n",
    "    bits_array = np.unpackbits(array)\n",
    "    return bits_array\n",
    "\n",
    "def bits_to_str(bits: np.ndarray) -> str:\n",
    "    bits_array = np.packbits(bits)\n",
    "    return bits_array.tobytes().decode('utf-8')\n",
    "\n",
    "\n",
    "def int_to_x_bits(number: int, bits) -> np.ndarray:\n",
    "    binary_string = np.binary_repr(number, width=bits)\n",
    "    return np.array(list(binary_string), dtype=np.uint8)\n",
    "\n",
    "def int_to_64_bits(number: int) -> np.ndarray:\n",
    "    return int_to_x_bits(number, 64)\n",
    "\n",
    "def int_to_32_bits(number: int) -> np.ndarray:\n",
    "    return int_to_x_bits(number, 32)\n",
    "\n",
    "def bits_to_int(bits_array):\n",
    "    binary_string = ''.join(bits_array.astype(str))\n",
    "    return int(binary_string, 2)\n",
    "\n",
    "def binary_negation(bits: np.ndarray) -> np.ndarray:\n",
    "    return np.vectorize(lambda x: (x + 1) % 2)(bits)\n",
    "\n"
   ]
  },
  {
   "cell_type": "code",
   "execution_count": 158,
   "metadata": {},
   "outputs": [],
   "source": [
    "def add_padding(bits: np.ndarray) -> np.ndarray:\n",
    "    bits_len = len(bits)\n",
    "    padding_len = BLOCK_SIZE - (bits_len + LENGTH_BITS + 1) % BLOCK_SIZE\n",
    "    one_padding = np.ones(1)\n",
    "    padding = np.zeros(padding_len)\n",
    "    bits_with_one_padding = np.append(bits, one_padding)\n",
    "    bits_with_padding = np.append(bits_with_one_padding, padding)\n",
    "    return bits_with_padding\n",
    "\n",
    "def add_length_bits(bits: np.ndarray) -> np.ndarray:\n",
    "    bits_len = len(bits)\n",
    "    length_bits = int_to_64_bits(bits_len)\n",
    "    little_endian_length_bits = rotate_2_parts(length_bits)\n",
    "    bits_with_length = np.append(bits, little_endian_length_bits)\n",
    "    return bits_with_length\n",
    "\n",
    "def split_x_blocks(bits: np.ndarray, size: int) -> np.ndarray:\n",
    "    assert bits.size % size == 0\n",
    "    num_blocks = bits.size // size\n",
    "    blocks = np.array_split(bits, num_blocks)\n",
    "    return np.array(blocks, dtype=np.uint8)\n",
    "\n",
    "def split_512_blocks(bits: np.ndarray) -> np.ndarray:\n",
    "    return split_x_blocks(bits, 512)\n",
    "\n",
    "def split_32_blocks(bits: np.ndarray) -> np.ndarray:\n",
    "    return split_x_blocks(bits, 32)\n",
    "\n",
    "def rotate_x_parts(bits: np.ndarray, x: int) -> np.ndarray:\n",
    "    split_arr = np.array_split(bits, x)\n",
    "    reversed_arr = np.flip(split_arr)\n",
    "    return np.concatenate(reversed_arr)\n",
    "\n",
    "def rotate_4_parts(bits: np.ndarray) -> np.ndarray:\n",
    "    return rotate_x_parts(bits, 4)\n",
    "\n",
    "def rotate_2_parts(bits: np.ndarray) -> np.ndarray:\n",
    "    return rotate_x_parts(bits, 2)\n"
   ]
  },
  {
   "cell_type": "code",
   "execution_count": 159,
   "metadata": {},
   "outputs": [
    {
     "name": "stdout",
     "output_type": "stream",
     "text": [
      "512\n"
     ]
    }
   ],
   "source": [
    "bits = str_to_bits(\"plaintext\")\n",
    "bits = add_padding(bits)\n",
    "bits = add_length_bits(bits)\n",
    "print(bits.size)"
   ]
  },
  {
   "cell_type": "code",
   "execution_count": 160,
   "metadata": {},
   "outputs": [
    {
     "name": "stdout",
     "output_type": "stream",
     "text": [
      "512\n"
     ]
    },
    {
     "data": {
      "text/plain": [
       "array([[0, 1, 1, 1, 0, 0, 0, 0, 0, 1, 1, 0, 1, 1, 0, 0, 0, 1, 1, 0, 0, 0,\n",
       "        0, 1, 0, 1, 1, 0, 1, 0, 0, 1, 0, 1, 1, 0, 1, 1, 1, 0, 0, 1, 1, 1,\n",
       "        0, 1, 0, 0, 0, 1, 1, 0, 0, 1, 0, 1, 0, 1, 1, 1, 1, 0, 0, 0, 0, 1,\n",
       "        1, 1, 0, 1, 0, 0, 1, 0, 0, 0, 0, 0, 0, 0, 0, 0, 0, 0, 0, 0, 0, 0,\n",
       "        0, 0, 0, 0, 0, 0, 0, 0, 0, 0, 0, 0, 0, 0, 0, 0, 0, 0, 0, 0, 0, 0,\n",
       "        0, 0, 0, 0, 0, 0, 0, 0, 0, 0, 0, 0, 0, 0, 0, 0, 0, 0, 0, 0, 0, 0,\n",
       "        0, 0, 0, 0, 0, 0, 0, 0, 0, 0, 0, 0, 0, 0, 0, 0, 0, 0, 0, 0, 0, 0,\n",
       "        0, 0, 0, 0, 0, 0, 0, 0, 0, 0, 0, 0, 0, 0, 0, 0, 0, 0, 0, 0, 0, 0,\n",
       "        0, 0, 0, 0, 0, 0, 0, 0, 0, 0, 0, 0, 0, 0, 0, 0, 0, 0, 0, 0, 0, 0,\n",
       "        0, 0, 0, 0, 0, 0, 0, 0, 0, 0, 0, 0, 0, 0, 0, 0, 0, 0, 0, 0, 0, 0,\n",
       "        0, 0, 0, 0, 0, 0, 0, 0, 0, 0, 0, 0, 0, 0, 0, 0, 0, 0, 0, 0, 0, 0,\n",
       "        0, 0, 0, 0, 0, 0, 0, 0, 0, 0, 0, 0, 0, 0, 0, 0, 0, 0, 0, 0, 0, 0,\n",
       "        0, 0, 0, 0, 0, 0, 0, 0, 0, 0, 0, 0, 0, 0, 0, 0, 0, 0, 0, 0, 0, 0,\n",
       "        0, 0, 0, 0, 0, 0, 0, 0, 0, 0, 0, 0, 0, 0, 0, 0, 0, 0, 0, 0, 0, 0,\n",
       "        0, 0, 0, 0, 0, 0, 0, 0, 0, 0, 0, 0, 0, 0, 0, 0, 0, 0, 0, 0, 0, 0,\n",
       "        0, 0, 0, 0, 0, 0, 0, 0, 0, 0, 0, 0, 0, 0, 0, 0, 0, 0, 0, 0, 0, 0,\n",
       "        0, 0, 0, 0, 0, 0, 0, 0, 0, 0, 0, 0, 0, 0, 0, 0, 0, 0, 0, 0, 0, 0,\n",
       "        0, 0, 0, 0, 0, 0, 0, 0, 0, 0, 0, 0, 0, 0, 0, 0, 0, 0, 0, 0, 0, 0,\n",
       "        0, 0, 0, 0, 0, 0, 0, 0, 0, 0, 0, 0, 0, 0, 0, 0, 0, 0, 0, 0, 0, 0,\n",
       "        0, 0, 0, 0, 0, 0, 0, 0, 0, 0, 0, 0, 0, 0, 0, 0, 0, 0, 0, 0, 0, 0,\n",
       "        0, 0, 0, 0, 0, 0, 0, 0, 0, 0, 0, 0, 0, 0, 1, 1, 1, 0, 0, 0, 0, 0,\n",
       "        0, 0, 0, 0, 0, 0, 0, 0, 0, 0, 0, 0, 0, 0, 0, 0, 0, 0, 0, 0, 0, 0,\n",
       "        0, 0, 0, 0, 0, 0, 0, 0, 0, 0, 0, 0, 0, 0, 0, 0, 0, 0, 0, 0, 0, 0,\n",
       "        0, 0, 0, 0, 0, 0]], dtype=uint8)"
      ]
     },
     "execution_count": 160,
     "metadata": {},
     "output_type": "execute_result"
    }
   ],
   "source": [
    "bits = str_to_bits(\"plaintext\")\n",
    "bits = add_padding(bits)\n",
    "bits = add_length_bits(bits)\n",
    "print(bits.size)\n",
    "split_512_blocks(bits)"
   ]
  },
  {
   "cell_type": "code",
   "execution_count": 161,
   "metadata": {},
   "outputs": [],
   "source": [
    "def F(K, L, M) -> np.ndarray:\n",
    "    return (K & L) | (binary_negation(K) & M)\n",
    "\n",
    "def G(K, L, M) -> np.ndarray:\n",
    "    return (K & L) | (L & binary_negation(M))\n",
    "\n",
    "def H(K, L, M) -> np.ndarray:\n",
    "    return  K ^ L ^ M\n",
    "\n",
    "def I(K, L, M) -> np.ndarray:\n",
    "    return L ^ (K | binary_negation(M))\n"
   ]
  },
  {
   "cell_type": "code",
   "execution_count": 162,
   "metadata": {},
   "outputs": [],
   "source": [
    "# SHIFTS\n",
    "shift = [\n",
    "    7, 12, 17, 22, 7, 12, 17, 22, 7, 12, 17, 22, 7, 12, 17, 22,\n",
    "    5,  9, 14, 20, 5,  9, 14, 20, 5,  9, 14, 20, 5,  9, 14, 20, \n",
    "    4, 11, 16, 23, 4, 11, 16, 23, 4, 11, 16, 23, 4, 11, 16, 23,\n",
    "    6, 10, 15, 21, 6, 10, 15, 21, 6, 10, 15, 21, 6, 10, 15, 21\n",
    "]\n",
    "\n",
    "def left_rotate(arr, rotations):\n",
    "    rotations = rotations % arr.size\n",
    "    return np.roll(arr, -rotations)\n",
    "\n",
    "def add_modulo(a_bits, b_bits):\n",
    "    a = bits_to_int(a_bits)\n",
    "    b = bits_to_int(b_bits)\n",
    "    res = (a + b) % (2 ** 32)\n",
    "    return int_to_32_bits(res)\n",
    "\n",
    "K = [ \n",
    "    0xd76aa478, 0xe8c7b756, 0x242070db, 0xc1bdceee,\n",
    "    0xf57c0faf, 0x4787c62a, 0xa8304613, 0xfd469501,\n",
    "    0x698098d8, 0x8b44f7af, 0xffff5bb1, 0x895cd7be,\n",
    "    0x6b901122, 0xfd987193, 0xa679438e, 0x49b40821,\n",
    "    0xf61e2562, 0xc040b340, 0x265e5a51, 0xe9b6c7aa,\n",
    "    0xd62f105d, 0x02441453, 0xd8a1e681, 0xe7d3fbc8,\n",
    "    0x21e1cde6, 0xc33707d6, 0xf4d50d87, 0x455a14ed,\n",
    "    0xa9e3e905, 0xfcefa3f8, 0x676f02d9, 0x8d2a4c8a,\n",
    "    0xfffa3942, 0x8771f681, 0x6d9d6122, 0xfde5380c,\n",
    "    0xa4beea44, 0x4bdecfa9, 0xf6bb4b60, 0xbebfbc70,\n",
    "    0x289b7ec6, 0xeaa127fa, 0xd4ef3085, 0x04881d05,\n",
    "    0xd9d4d039, 0xe6db99e5, 0x1fa27cf8, 0xc4ac5665,\n",
    "    0xf4292244, 0x432aff97, 0xab9423a7, 0xfc93a039,\n",
    "    0x655b59c3, 0x8f0ccc92, 0xffeff47d, 0x85845dd1,\n",
    "    0x6fa87e4f, 0xfe2ce6e0, 0xa3014314, 0x4e0811a1,\n",
    "    0xf7537e82, 0xbd3af235, 0x2ad7d2bb, 0xeb86d391 \n",
    "]"
   ]
  },
  {
   "cell_type": "code",
   "execution_count": 165,
   "metadata": {},
   "outputs": [
    {
     "data": {
      "text/plain": [
       "'344a478656df985dcd1e49d8618db4b5'"
      ]
     },
     "execution_count": 165,
     "metadata": {},
     "output_type": "execute_result"
    }
   ],
   "source": [
    "def md5(data):\n",
    "    bits = str_to_bits(data)\n",
    "    bits = add_padding(bits)\n",
    "    bits = add_length_bits(bits)\n",
    "    blocks = split_512_blocks(bits)\n",
    "\n",
    "    a0 = int_to_32_bits(0x67425301)\n",
    "    b0 = int_to_32_bits(0xEDFCBA45)\n",
    "    c0 = int_to_32_bits(0x98CBADFE)\n",
    "    d0 = int_to_32_bits(0x10325476)\n",
    "    var = (a0, b0, c0, d0)\n",
    "\n",
    "    for block in blocks:\n",
    "        var = process_block(block, var)\n",
    "\n",
    "    a0, b0, c0, d0 = var\n",
    "    a0 = rotate_4_parts(a0)\n",
    "    b0 = rotate_4_parts(b0)\n",
    "    c0 = rotate_4_parts(c0)\n",
    "    d0 = rotate_4_parts(d0)\n",
    "    var = (d0, c0, b0, a0)\n",
    "\n",
    "    bits = np.concatenate(var)\n",
    "    hash_bytes = np.packbits(bits)\n",
    "    return binascii.hexlify(hash_bytes).decode()\n",
    "\n",
    "\n",
    "def process_block(block_512, var):\n",
    "    A, B, C, D = var\n",
    "    a0, b0, c0, d0 = A, B, C, D\n",
    "    M = split_32_blocks(block_512)\n",
    "    E, g = 0, 0\n",
    "    \n",
    "    for i in range(64):\n",
    "        if i < 16:\n",
    "            E = F(B, C, D)\n",
    "            g = i\n",
    "        elif i < 32:\n",
    "            E = G(B, C, D)\n",
    "            g = (5*i + 1) % 16\n",
    "        elif i < 48:\n",
    "            E = H(B, C, D)\n",
    "            g = (3*i + 5) % 16\n",
    "        elif i < 64:\n",
    "            E = I(B, C, D)\n",
    "            g = (7*i) % 16\n",
    "\n",
    "        temp = D\n",
    "        D = C\n",
    "        C = B\n",
    "        A = add_modulo(A, E)\n",
    "        A = add_modulo(A, int_to_32_bits(K[i]))\n",
    "        A = add_modulo(A, M[g])\n",
    "        A = left_rotate(A, shift[i])\n",
    "        B = add_modulo(B, A)\n",
    "        A = temp\n",
    "    \n",
    "    a0 = add_modulo(a0, A)\n",
    "    b0 = add_modulo(b0, B)\n",
    "    c0 = add_modulo(c0, C)\n",
    "    d0 = add_modulo(d0, D)\n",
    "\n",
    "    return (a0, b0, c0, d0)\n",
    "    \n",
    "\n",
    "md5(\"\") #  = d41d8cd98f00b204e9800998ecf8427e"
   ]
  }
 ],
 "metadata": {
  "kernelspec": {
   "display_name": "Python 3 (ipykernel)",
   "language": "python",
   "name": "python3"
  },
  "language_info": {
   "codemirror_mode": {
    "name": "ipython",
    "version": 3
   },
   "file_extension": ".py",
   "mimetype": "text/x-python",
   "name": "python",
   "nbconvert_exporter": "python",
   "pygments_lexer": "ipython3",
   "version": "3.10.10"
  }
 },
 "nbformat": 4,
 "nbformat_minor": 2
}
