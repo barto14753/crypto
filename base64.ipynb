{
 "cells": [
  {
   "attachments": {},
   "cell_type": "markdown",
   "metadata": {},
   "source": [
    "# Base64 algorithm"
   ]
  },
  {
   "cell_type": "code",
   "execution_count": 50,
   "metadata": {},
   "outputs": [],
   "source": [
    "import numpy as np\n",
    "import binascii"
   ]
  },
  {
   "cell_type": "code",
   "execution_count": 51,
   "metadata": {},
   "outputs": [],
   "source": [
    "BASE64_TABLE = [\n",
    "  'A', 'B', 'C', 'D', 'E', 'F', 'G', 'H',\n",
    "  'I', 'J', 'K', 'L', 'M', 'N', 'O', 'P',\n",
    "  'Q', 'R', 'S', 'T', 'U', 'V', 'W', 'X',\n",
    "  'Y', 'Z', 'a', 'b', 'c', 'd', 'e', 'f',\n",
    "  'g', 'h', 'i', 'j', 'k', 'l', 'm', 'n',\n",
    "  'o', 'p', 'q', 'r', 's', 't', 'u', 'v',\n",
    "  'w', 'x', 'y', 'z', '0', '1', '2', '3',\n",
    "  '4', '5', '6', '7', '8', '9', '+', '/'\n",
    "]"
   ]
  },
  {
   "cell_type": "code",
   "execution_count": 52,
   "metadata": {},
   "outputs": [],
   "source": [
    "def str_to_bits(string: str) -> np.ndarray:\n",
    "    bytes_array = bytes(string, 'ascii')\n",
    "    array = np.frombuffer(bytes_array, dtype=np.uint8)\n",
    "    bits_array = np.unpackbits(array)\n",
    "    return bits_array\n",
    "\n",
    "def bits_to_str(bits: np.ndarray) -> str:\n",
    "    bits_array = np.packbits(bits)\n",
    "    return bits_array.tobytes().decode('ascii')\n",
    "\n",
    "def split_to_sextets(bits: np.ndarray) -> np.ndarray:\n",
    "    num_blocks = bits.size // 6\n",
    "    blocks = np.array_split(bits, num_blocks)\n",
    "    return np.array(blocks, dtype=np.uint8)\n",
    "\n",
    "def add_padding(bits: np.ndarray) -> np.ndarray:\n",
    "    length = 6 - len(bits) % 6\n",
    "    return np.append(bits, np.zeros(length))\n",
    "\n",
    "def bits_to_int(bits_array):\n",
    "    binary_string = ''.join(bits_array.astype(str))\n",
    "    return int(binary_string, 2)"
   ]
  },
  {
   "cell_type": "code",
   "execution_count": 90,
   "metadata": {},
   "outputs": [
    {
     "data": {
      "text/plain": [
       "'YWJj'"
      ]
     },
     "execution_count": 90,
     "metadata": {},
     "output_type": "execute_result"
    }
   ],
   "source": [
    "def encode_base64(string: str) -> str:\n",
    "    assert len(string) > 0\n",
    "\n",
    "    pad_len = (3 - (len(string) % 3)) % 3 \n",
    "    bits = str_to_bits(string)\n",
    "\n",
    "    if len(string) % 3 > 0:\n",
    "        bits = add_padding(bits)\n",
    "    sextets = split_to_sextets(bits)\n",
    "    result = \"\".join(BASE64_TABLE[bits_to_int(sextet)] for sextet in sextets)\n",
    "    result += pad_len * \"=\"\n",
    "    return result\n",
    "\n",
    "\n",
    "encode_base64(\"abc\")\n"
   ]
  },
  {
   "cell_type": "code",
   "execution_count": 95,
   "metadata": {},
   "outputs": [],
   "source": [
    "import base64\n",
    "\n",
    "def assert_base64(testcase):\n",
    "    assert encode_base64(testcase) == base64.b64encode(testcase.encode('ascii')).decode('ascii')\n",
    "\n",
    "assert_base64(\"a\")\n",
    "assert_base64(\"ab\")\n",
    "assert_base64(\"abc\")\n",
    "assert_base64(\"abcd\")\n",
    "assert_base64(\"abcde\")"
   ]
  }
 ],
 "metadata": {
  "kernelspec": {
   "display_name": "base",
   "language": "python",
   "name": "python3"
  },
  "language_info": {
   "codemirror_mode": {
    "name": "ipython",
    "version": 3
   },
   "file_extension": ".py",
   "mimetype": "text/x-python",
   "name": "python",
   "nbconvert_exporter": "python",
   "pygments_lexer": "ipython3",
   "version": "3.10.10"
  },
  "orig_nbformat": 4
 },
 "nbformat": 4,
 "nbformat_minor": 2
}
